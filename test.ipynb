{
 "cells": [
  {
   "cell_type": "code",
   "execution_count": 3,
   "metadata": {},
   "outputs": [
    {
     "name": "stderr",
     "output_type": "stream",
     "text": [
      "  0%|          | 0/2 [00:24<?, ?it/s]   0%|          | 0/2 [00:00<?, ?it/s]\n",
      "Testing PCS 9 - Tony Zhao's addition:   0%|          | 0/2 [00:24<?, ?it/s]\n"
     ]
    },
    {
     "ename": "KeyboardInterrupt",
     "evalue": "",
     "output_type": "error",
     "traceback": [
      "\u001b[0;31m---------------------------------------------------------------------------\u001b[0m",
      "\u001b[0;31mKeyboardInterrupt\u001b[0m                         Traceback (most recent call last)",
      "\u001b[1;32m/mnt/e/prog/python/PyAutoGrade/test.ipynb 单元格 1\u001b[0m line \u001b[0;36m7\n\u001b[1;32m      <a href='vscode-notebook-cell://wsl%2Bubuntu-22.04/mnt/e/prog/python/PyAutoGrade/test.ipynb#W0sdnNjb2RlLXJlbW90ZQ%3D%3D?line=3'>4</a>\u001b[0m \u001b[39mfrom\u001b[39;00m \u001b[39mbatch_test_manager\u001b[39;00m \u001b[39mimport\u001b[39;00m \u001b[39m*\u001b[39m\n\u001b[1;32m      <a href='vscode-notebook-cell://wsl%2Bubuntu-22.04/mnt/e/prog/python/PyAutoGrade/test.ipynb#W0sdnNjb2RlLXJlbW90ZQ%3D%3D?line=5'>6</a>\u001b[0m bm \u001b[39m=\u001b[39m BatchTestManger()\n\u001b[0;32m----> <a href='vscode-notebook-cell://wsl%2Bubuntu-22.04/mnt/e/prog/python/PyAutoGrade/test.ipynb#W0sdnNjb2RlLXJlbW90ZQ%3D%3D?line=6'>7</a>\u001b[0m bm\u001b[39m.\u001b[39;49mtest_all()\n",
      "File \u001b[0;32m/mnt/e/prog/python/PyAutoGrade/./src/batch_test_manager.py:38\u001b[0m, in \u001b[0;36mBatchTestManger.test_all\u001b[0;34m(self)\u001b[0m\n\u001b[1;32m     36\u001b[0m stus \u001b[39m=\u001b[39m \u001b[39mself\u001b[39m\u001b[39m.\u001b[39mcfg[\u001b[39m'\u001b[39m\u001b[39mstudents_list\u001b[39m\u001b[39m'\u001b[39m]\n\u001b[1;32m     37\u001b[0m probs \u001b[39m=\u001b[39m \u001b[39mself\u001b[39m\u001b[39m.\u001b[39mcfg[\u001b[39m'\u001b[39m\u001b[39mproblems_list\u001b[39m\u001b[39m'\u001b[39m]\n\u001b[0;32m---> 38\u001b[0m \u001b[39mreturn\u001b[39;00m \u001b[39mself\u001b[39;49m\u001b[39m.\u001b[39;49mtest_specific(\u001b[39m*\u001b[39;49mitertools\u001b[39m.\u001b[39;49mproduct(stus, probs))\n",
      "File \u001b[0;32m/mnt/e/prog/python/PyAutoGrade/./src/batch_test_manager.py:82\u001b[0m, in \u001b[0;36mBatchTestManger.test_specific\u001b[0;34m(self, *stu_prob_pair)\u001b[0m\n\u001b[1;32m     80\u001b[0m \u001b[39mfor\u001b[39;00m t \u001b[39min\u001b[39;00m tqdm(test_cases):\n\u001b[1;32m     81\u001b[0m     \u001b[39massert\u001b[39;00m \u001b[39misinstance\u001b[39m(t, TestCase), \u001b[39m\"\u001b[39m\u001b[39mtest case constructor should return a list of TestCase, instead, it is \u001b[39m\u001b[39m{}\u001b[39;00m\u001b[39m\"\u001b[39m\u001b[39m.\u001b[39mformat(\u001b[39mtype\u001b[39m(t))\n\u001b[0;32m---> 82\u001b[0m     cases_resuls\u001b[39m.\u001b[39mappend(t\u001b[39m.\u001b[39;49mrun_test(abs_prob_solution_path))\n\u001b[1;32m     83\u001b[0m \u001b[39mif\u001b[39;00m prob \u001b[39mnot\u001b[39;00m \u001b[39min\u001b[39;00m ret: \n\u001b[1;32m     84\u001b[0m     ret[prob] \u001b[39m=\u001b[39m [\u001b[39m0\u001b[39m] \u001b[39m*\u001b[39m \u001b[39mlen\u001b[39m(unique_stu)\n",
      "File \u001b[0;32m/mnt/e/prog/python/PyAutoGrade/./src/test_case.py:140\u001b[0m, in \u001b[0;36mPrewrittenScriptCase.run_test\u001b[0;34m(self, evaluated_module_path)\u001b[0m\n\u001b[1;32m    137\u001b[0m         \u001b[39mbreak\u001b[39;00m \n\u001b[1;32m    139\u001b[0m prog\u001b[39m.\u001b[39mjoin()\n\u001b[0;32m--> 140\u001b[0m \u001b[39mreturn\u001b[39;00m ipipe\u001b[39m.\u001b[39;49mrecv()\n",
      "File \u001b[0;32m/mnt/e/cling/miniconda/lib/python3.11/multiprocessing/connection.py:249\u001b[0m, in \u001b[0;36m_ConnectionBase.recv\u001b[0;34m(self)\u001b[0m\n\u001b[1;32m    247\u001b[0m \u001b[39mself\u001b[39m\u001b[39m.\u001b[39m_check_closed()\n\u001b[1;32m    248\u001b[0m \u001b[39mself\u001b[39m\u001b[39m.\u001b[39m_check_readable()\n\u001b[0;32m--> 249\u001b[0m buf \u001b[39m=\u001b[39m \u001b[39mself\u001b[39;49m\u001b[39m.\u001b[39;49m_recv_bytes()\n\u001b[1;32m    250\u001b[0m \u001b[39mreturn\u001b[39;00m _ForkingPickler\u001b[39m.\u001b[39mloads(buf\u001b[39m.\u001b[39mgetbuffer())\n",
      "File \u001b[0;32m/mnt/e/cling/miniconda/lib/python3.11/multiprocessing/connection.py:413\u001b[0m, in \u001b[0;36mConnection._recv_bytes\u001b[0;34m(self, maxsize)\u001b[0m\n\u001b[1;32m    412\u001b[0m \u001b[39mdef\u001b[39;00m \u001b[39m_recv_bytes\u001b[39m(\u001b[39mself\u001b[39m, maxsize\u001b[39m=\u001b[39m\u001b[39mNone\u001b[39;00m):\n\u001b[0;32m--> 413\u001b[0m     buf \u001b[39m=\u001b[39m \u001b[39mself\u001b[39;49m\u001b[39m.\u001b[39;49m_recv(\u001b[39m4\u001b[39;49m)\n\u001b[1;32m    414\u001b[0m     size, \u001b[39m=\u001b[39m struct\u001b[39m.\u001b[39munpack(\u001b[39m\"\u001b[39m\u001b[39m!i\u001b[39m\u001b[39m\"\u001b[39m, buf\u001b[39m.\u001b[39mgetvalue())\n\u001b[1;32m    415\u001b[0m     \u001b[39mif\u001b[39;00m size \u001b[39m==\u001b[39m \u001b[39m-\u001b[39m\u001b[39m1\u001b[39m:\n",
      "File \u001b[0;32m/mnt/e/cling/miniconda/lib/python3.11/multiprocessing/connection.py:378\u001b[0m, in \u001b[0;36mConnection._recv\u001b[0;34m(self, size, read)\u001b[0m\n\u001b[1;32m    376\u001b[0m remaining \u001b[39m=\u001b[39m size\n\u001b[1;32m    377\u001b[0m \u001b[39mwhile\u001b[39;00m remaining \u001b[39m>\u001b[39m \u001b[39m0\u001b[39m:\n\u001b[0;32m--> 378\u001b[0m     chunk \u001b[39m=\u001b[39m read(handle, remaining)\n\u001b[1;32m    379\u001b[0m     n \u001b[39m=\u001b[39m \u001b[39mlen\u001b[39m(chunk)\n\u001b[1;32m    380\u001b[0m     \u001b[39mif\u001b[39;00m n \u001b[39m==\u001b[39m \u001b[39m0\u001b[39m:\n",
      "\u001b[0;31mKeyboardInterrupt\u001b[0m: "
     ]
    }
   ],
   "source": [
    "import os\n",
    "import sys \n",
    "sys.path.append(\"./src/\")\n",
    "from batch_test_manager import *\n",
    "\n",
    "bm = BatchTestManger()\n",
    "bm.test_all()"
   ]
  }
 ],
 "metadata": {
  "kernelspec": {
   "display_name": "base",
   "language": "python",
   "name": "python3"
  },
  "language_info": {
   "codemirror_mode": {
    "name": "ipython",
    "version": 3
   },
   "file_extension": ".py",
   "mimetype": "text/x-python",
   "name": "python",
   "nbconvert_exporter": "python",
   "pygments_lexer": "ipython3",
   "version": "3.11.5"
  }
 },
 "nbformat": 4,
 "nbformat_minor": 2
}
